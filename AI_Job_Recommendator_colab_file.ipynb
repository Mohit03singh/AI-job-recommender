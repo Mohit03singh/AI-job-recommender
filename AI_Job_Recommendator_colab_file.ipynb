{
  "nbformat": 4,
  "nbformat_minor": 0,
  "metadata": {
    "colab": {
      "provenance": [],
      "authorship_tag": "ABX9TyOmGQoq3SfgZ3nFpPXwCVyB",
      "include_colab_link": true
    },
    "kernelspec": {
      "name": "python3",
      "display_name": "Python 3"
    },
    "language_info": {
      "name": "python"
    }
  },
  "cells": [
    {
      "cell_type": "markdown",
      "metadata": {
        "id": "view-in-github",
        "colab_type": "text"
      },
      "source": [
        "<a href=\"https://colab.research.google.com/github/Mohit03singh/AI-job-recommender/blob/main/AI_Job_Recommendator_colab_file.ipynb\" target=\"_parent\"><img src=\"https://colab.research.google.com/assets/colab-badge.svg\" alt=\"Open In Colab\"/></a>"
      ]
    },
    {
      "cell_type": "code",
      "execution_count": 15,
      "metadata": {
        "colab": {
          "base_uri": "https://localhost:8080/"
        },
        "id": "viGchPYWclRb",
        "outputId": "80232bfb-c77f-4170-94ff-85da1fd547ef"
      },
      "outputs": [
        {
          "output_type": "stream",
          "name": "stdout",
          "text": [
            "All libraries have been installed!\n"
          ]
        }
      ],
      "source": [
        "# Cell 1: Install all the required libraries\n",
        "#\n",
        "!pip install langchain-groq -q\n",
        "!pip install langchain -q\n",
        "!pip install faiss-cpu -q\n",
        "!pip install langchain-community -q\n",
        "!pip install PyPDF2 -q\n",
        "\n",
        "print(\"All libraries have been installed!\")"
      ]
    },
    {
      "cell_type": "code",
      "source": [
        "# Cell 2: Import libraries and Set up API Key\n",
        "# Now we will import the installed libraries and set up the API key\n",
        "\n",
        "import os\n",
        "from google.colab import userdata\n",
        "from langchain_groq import ChatGroq\n",
        "from langchain_core.prompts import PromptTemplate\n",
        "from langchain.text_splitter import RecursiveCharacterTextSplitter\n",
        "from langchain.chains.combine_documents import create_stuff_documents_chain\n",
        "from langchain.chains import create_retrieval_chain\n",
        "from langchain_community.vectorstores import FAISS\n",
        "from langchain_community.document_loaders import PyPDFLoader\n",
        "from langchain_community.embeddings import OllamaEmbeddings # We will use a local model for embeddings\n",
        "\n",
        "# How to set the Groq API Key:\n",
        "# On the left side of Colab, click on the '🔑' (Secrets) icon.\n",
        "# Click 'Add a new secret'.\n",
        "# Name: GROQ_API_KEY\n",
        "# Value: Paste your Groq API Key here that you saved earlier.\n",
        "# After this, run this cell.\n",
        "\n",
        "try:\n",
        "    os.environ[\"GROQ_API_KEY\"] = userdata.get('GROQ_API_KEY')\n",
        "    print(\"API Key has been successfully set!\")\n",
        "except userdata.SecretNotFoundError:\n",
        "    print(\"ERROR: GROQ_API_KEY secret not found. Please add it in Colab Secrets.\")\n",
        "except Exception as e:\n",
        "    print(f\"An error occurred: {e}\")\n",
        "\n",
        "# IMPORTANT: We are using Ollama for embeddings, which can be a bit complex to set up in Colab.\n",
        "# For simplicity, we will use a pre-computed or simpler embedding model if Ollama setup is difficult.\n",
        "# Let's switch to a HuggingFace embedding model which is easier to set up in Colab.\n",
        "!pip install sentence-transformers -q\n",
        "from langchain_community.embeddings import HuggingFaceBgeEmbeddings\n",
        "\n",
        "model_name = \"BAAI/bge-small-en\"\n",
        "model_kwargs = {\"device\": \"cpu\"}\n",
        "encode_kwargs = {\"normalize_embeddings\": True}\n",
        "hf_embeddings = HuggingFaceBgeEmbeddings(\n",
        "    model_name=model_name, model_kwargs=model_kwargs, encode_kwargs=encode_kwargs\n",
        ")\n",
        "\n",
        "print(\"Embedding model is also ready!\")\n"
      ],
      "metadata": {
        "colab": {
          "base_uri": "https://localhost:8080/"
        },
        "id": "8HomXmrhOEHb",
        "outputId": "697fbe99-156d-497b-a7fa-a277608950a1"
      },
      "execution_count": 16,
      "outputs": [
        {
          "output_type": "stream",
          "name": "stdout",
          "text": [
            "API Key has been successfully set!\n",
            "Embedding model is also ready!\n"
          ]
        }
      ]
    },
    {
      "cell_type": "code",
      "source": [
        "# Cell 3: Preparing Job Data (The \"Retrieval\" part of RAG)\n",
        "# In a real project, data comes from Google Jobs or LinkedIn.\n",
        "# But for beginners, we will create sample data ourselves to keep the project simple.\n",
        "\n",
        "print(\"Creating sample job data...\")\n",
        "\n",
        "# This is our Job Database. We have written it in text format.\n",
        "jobs_data_text = \"\"\"\n",
        "Job Title: Python Developer Intern\n",
        "Company: Tech Innovations Inc.\n",
        "Location: Bangalore\n",
        "Job Type: Internship\n",
        "Description: Looking for a Python developer intern to work on backend systems. Must know Python, Django, and basic database concepts. Good opportunity to learn about scalable systems.\n",
        "\n",
        "Job Title: Frontend Developer\n",
        "Company: Creative Solutions\n",
        "Location: Pune\n",
        "Job Type: Full-time\n",
        "Description: We need an experienced Frontend Developer proficient in React, HTML, CSS, and JavaScript. You will be responsible for building beautiful and responsive user interfaces. 3+ years of experience required.\n",
        "\n",
        "Job Title: Data Science Intern\n",
        "Company: Data Insights Co.\n",
        "Location: Work from Home\n",
        "Job Type: Internship\n",
        "Description: A great opportunity for students to get hands-on experience in data analysis, machine learning, and visualization. Required skills: Python, Pandas, Matplotlib, and basic knowledge of machine learning algorithms.\n",
        "\n",
        "Job Title: UI/UX Designer\n",
        "Company: Creative Solutions\n",
        "Location: Mumbai\n",
        "Job Type: Full-time\n",
        "Description: We are seeking a talented UI/UX designer to create amazing user experiences. The ideal candidate should have an eye for clean and artful design, possess superior UI/UX skills and be able to translate high-level requirements into interaction flows. Proficiency in Figma, Sketch, or Adobe XD is a must.\n",
        "\n",
        "Job Title: Backend Engineer - Java\n",
        "Company: FinTech Secure\n",
        "Location: Bangalore\n",
        "Job Type: Full-time\n",
        "Description: We are hiring a Backend Engineer with strong experience in Java, Spring Boot, and Microservices. You will be building the backbone of our financial services platform. Experience with AWS and Docker is a plus.\n",
        "\"\"\"\n",
        "\n",
        "# Splitting the text into smaller documents\n",
        "text_splitter = RecursiveCharacterTextSplitter(chunk_size=1000, chunk_overlap=200)\n",
        "documents = text_splitter.create_documents([jobs_data_text])\n",
        "\n",
        "print(f\"{len(documents)} documents have been created from the job data.\")\n",
        "# Now we will convert these documents into embeddings and save them into a Vector Store\n",
        "# A Vector Store is like a smart database that helps in finding similar text\n",
        "print(\"Creating Vector Store (FAISS)...\")\n",
        "vector_store = FAISS.from_documents(documents, hf_embeddings)\n",
        "print(\"Vector Store has been successfully created!\")\n"
      ],
      "metadata": {
        "colab": {
          "base_uri": "https://localhost:8080/"
        },
        "id": "xFHzdAtuOOIl",
        "outputId": "b0dfd953-15ec-4943-d9f3-2e2dac15ad00"
      },
      "execution_count": 17,
      "outputs": [
        {
          "output_type": "stream",
          "name": "stdout",
          "text": [
            "Creating sample job data...\n",
            "2 documents have been created from the job data.\n",
            "Creating Vector Store (FAISS)...\n",
            "Vector Store has been successfully created!\n"
          ]
        }
      ]
    },
    {
      "cell_type": "code",
      "source": [
        "# Cell 4: Creating AI Model and RAG Chain (The \"Augmented Generation\" part)\n",
        "# Here we will use LangChain to connect the whole system\n",
        "\n",
        "print(\"Preparing AI Model (Groq) and RAG chain...\")\n",
        "\n",
        "# 1. Initialize the AI Model (LLM)\n",
        "llm = ChatGroq(model_name=\"Llama3-8b-8192\")\n",
        "\n",
        "# 2. Create Prompt Template\n",
        "# This template tells the AI what it needs to do.\n",
        "# We will give it the context (our jobs) and the user's question.\n",
        "prompt_template = \"\"\"\n",
        "You are a friendly and helpful career advisor for students.\n",
        "Your task is to recommend suitable jobs from the provided context based on the user's skills and preferences.\n",
        "For each recommended job, provide a short, 2-3 line explanation of why it is a good match for the user.\n",
        "If there are no matching jobs in the context, just say \"I'm sorry, I couldn't find any suitable jobs based on your details in my current database.\"\n",
        "\n",
        "Context:\n",
        "{context}\n",
        "\n",
        "User's Details:\n",
        "{input}\n",
        "\n",
        "Your Recommendations:\n",
        "\"\"\"\n",
        "\n",
        "prompt = PromptTemplate.from_template(prompt_template)\n",
        "\n",
        "# 3. Create a chain that combines the documents (jobs) and the prompt\n",
        "document_chain = create_stuff_documents_chain(llm, prompt)\n",
        "\n",
        "# 4. Create the Retriever\n",
        "# The retriever's job is to fetch relevant jobs from the Vector Store\n",
        "retriever = vector_store.as_retriever()\n",
        "\n",
        "# 5. Create the Final Retrieval Chain\n",
        "# This chain will first retrieve relevant jobs based on user input,\n",
        "# and then give those jobs to the LLM so it can generate recommendations.\n",
        "retrieval_chain = create_retrieval_chain(retriever, document_chain)\n",
        "\n",
        "print(\"RAG chain has been successfully created!\")\n"
      ],
      "metadata": {
        "colab": {
          "base_uri": "https://localhost:8080/"
        },
        "id": "I9UxThEIOWAc",
        "outputId": "67a18128-574b-4610-e916-7a6339c98116"
      },
      "execution_count": 18,
      "outputs": [
        {
          "output_type": "stream",
          "name": "stdout",
          "text": [
            "Preparing AI Model (Groq) and RAG chain...\n",
            "RAG chain has been successfully created!\n"
          ]
        }
      ]
    },
    {
      "cell_type": "code",
      "source": [
        "# Cell 5: Testing the Chain (with User Input)\n",
        "# Let's see if our system is working by providing input interactively.\n",
        "\n",
        "print(\"--- System Test ---\")\n",
        "print(\"Please provide your details below to get job recommendations.\")\n",
        "\n",
        "# Get user input from the console\n",
        "skills = input(\"Enter your skills (e.g., Python, data analysis, React): \")\n",
        "experience = input(\"Enter your experience (e.g., Fresher, 3 years in Java): \")\n",
        "preferences = input(\"Enter your preferences (e.g., Internship in Pune, work from home): \")\n",
        "\n",
        "# Combine the user's input into a single query string.\n",
        "input_query = f\"Skills: {skills}. Experience: {experience}. Preferences: {preferences}.\"\n",
        "\n",
        "# Call our RAG chain with the formatted input.\n",
        "# Assumes 'retrieval_chain' has been created in a previous cell.\n",
        "response = retrieval_chain.invoke({\"input\": input_query})\n",
        "\n",
        "# Print the response from the AI.\n",
        "print(\"\\n--- AI's Response ---\\n\")\n",
        "print(response[\"answer\"])\n",
        "print(\"\\n--- Test Complete! ---\")"
      ],
      "metadata": {
        "colab": {
          "base_uri": "https://localhost:8080/"
        },
        "id": "MPSauGyVLzRS",
        "outputId": "2e6bc99a-e282-4252-abc4-72c1d202471e"
      },
      "execution_count": 21,
      "outputs": [
        {
          "output_type": "stream",
          "name": "stdout",
          "text": [
            "--- System Test ---\n",
            "Please provide your details below to get job recommendations.\n",
            "Enter your skills (e.g., Python, data analysis, React): python,sql , power bi \n",
            "Enter your experience (e.g., Fresher, 3 years in Java): 1 year in data analyst\n",
            "Enter your preferences (e.g., Internship in Pune, work from home): job in delhi \n",
            "\n",
            "--- AI's Response ---\n",
            "\n",
            "Based on the user's skills and preferences, here are some job recommendations:\n",
            "\n",
            "**Job Recommendation 1:** Data Science Intern (Data Insights Co.)\n",
            "This internship is a great match for the user because they already have experience in data analysis and possess skills in Python, Pandas, and Matplotlib. The opportunity to work on data analysis, machine learning, and visualization will help them grow in their career.\n",
            "\n",
            "**Job Recommendation 2:** Python Developer Intern (Tech Innovations Inc.)\n",
            "This internship aligns well with the user's skills in Python, Django, and basic database concepts. The opportunity to work on backend systems and learn about scalable systems will be beneficial for their career growth.\n",
            "\n",
            "Unfortunately, there are no other job recommendations that match the user's skills and preferences in the provided context, as the other jobs require more experience or skills that are not aligned with the user's profile.\n",
            "\n",
            "I'm sorry, I couldn't find any other suitable jobs based on your details in my current database.\n",
            "\n",
            "--- Test Complete! ---\n"
          ]
        }
      ]
    },
    {
      "cell_type": "code",
      "source": [
        "# Cell 5: Chain ko Test karna (Example ke saath)\n",
        "# Chaliye dekhte hain humara system kaam kar raha hai ya nahi.\n",
        "\n",
        "print(\"System ko test kar rahe hain...\")\n",
        "\n",
        "# Example User Input [cite: 7]\n",
        "user_input = {\n",
        "    \"skills\": \"I know Python and I have done a course on data analysis. I am a final year student.\",\n",
        "    \"experience\": \"No professional experience, just college projects.\",\n",
        "    \"preferences\": \"Looking for an internship, location can be anywhere, work from home is preferred.\"\n",
        "}\n",
        "\n",
        "# User ka input combine karke ek single query banate hain\n",
        "input_query = f\"Skills: {user_input['skills']}. Experience: {user_input['experience']}. Preferences: {user_input['preferences']}.\"\n",
        "\n",
        "# Humari RAG chain ko call karte hain\n",
        "response = retrieval_chain.invoke({\"input\": input_query})\n",
        "\n",
        "# Response ko print karte hain\n",
        "print(\"\\n--- AI ka Jawab ---\\n\")\n",
        "print(response[\"answer\"])\n",
        "print(\"\\n--- Testing Complete! ---\")\n",
        "\n",
        "# Ek aur example\n",
        "print(\"\\n--- Dusra Example Test Kar Rahe Hain ---\\n\")\n",
        "user_input_2 = {\n",
        "    \"skills\": \"I am a frontend developer with 3 years of experience in React and Javascript.\",\n",
        "    \"experience\": \"3 years\",\n",
        "    \"preferences\": \"Looking for a full-time job in Pune.\"\n",
        "}\n",
        "input_query_2 = f\"Skills: {user_input_2['skills']}. Experience: {user_input_2['experience']}. Preferences: {user_input_2['preferences']}.\"\n",
        "response_2 = retrieval_chain.invoke({\"input\": input_query_2})\n",
        "\n",
        "print(\"\\n--- AI ka Jawab (Example 2) ---\\n\")\n",
        "print(response_2[\"answer\"])\n",
        "print(\"\\n--- Testing Complete! ---\")"
      ],
      "metadata": {
        "id": "-48wikO5e5sI",
        "outputId": "787d5b11-3319-4d8e-a833-d3c5e470f72d",
        "colab": {
          "base_uri": "https://localhost:8080/"
        }
      },
      "execution_count": null,
      "outputs": [
        {
          "output_type": "stream",
          "name": "stdout",
          "text": [
            "System ko test kar rahe hain...\n",
            "\n",
            "--- AI ka Jawab ---\n",
            "\n",
            "Based on your skills and preferences, I recommend the following jobs:\n",
            "\n",
            "1. Python Developer Intern at Tech Innovations Inc.:\n",
            "This job is a great match for you since you know Python and have done a course on data analysis. As a Python developer intern, you'll have the opportunity to work on backend systems and learn about scalable systems, which aligns with your skills and interests. Plus, it's an internship, which fits your experience level and preference for a work-from-home arrangement.\n",
            "\n",
            "2. Data Science Intern at Data Insights Co.:\n",
            "This job is another good fit for you, as it requires Python skills and experience with data analysis. Since you've already done a course on data analysis, you'll have a strong foundation to apply to this role. Additionally, it's an internship, and you can work from home, which aligns with your preferences.\n",
            "\n",
            "Based on your skills and preferences, I couldn't find any other suitable jobs in the provided context. However, I encourage you to apply for these two opportunities and make the most of your skills and experience!\n",
            "\n",
            "--- Testing Complete! ---\n",
            "\n",
            "--- Dusra Example Test Kar Rahe Hain ---\n",
            "\n",
            "\n",
            "--- AI ka Jawab (Example 2) ---\n",
            "\n",
            "Based on the user's skills and preferences, here are some job recommendations:\n",
            "\n",
            "1. **Frontend Developer** at Creative Solutions in Pune:\n",
            "This job is a great match for the user as they already have 3 years of experience in React and JavaScript, which are the required skills for this role. Additionally, the job is located in Pune, which aligns with the user's preference.\n",
            "\n",
            "2. **UI/UX Designer** at Creative Solutions in Mumbai:\n",
            "Although the user's primary skillset is in frontend development, their experience in design principles could be valuable in a UI/UX designer role. The user's artistic eye and understanding of user experience could be beneficial in this position. Additionally, the company is the same as the frontend developer role, which could be an attractive option.\n",
            "\n",
            "Note: I'm not recommending the Backend Engineer - Java role at FinTech Secure as the user's skills and experience are not a match for this role. The Python Developer Intern and Data Science Intern roles at Tech Innovations Inc. and Data Insights Co. are also not suitable options as they require different skill sets and experience.\n",
            "\n",
            "--- Testing Complete! ---\n"
          ]
        }
      ]
    }
  ]
}